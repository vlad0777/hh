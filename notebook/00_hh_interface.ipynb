{
 "cells": [
  {
   "cell_type": "markdown",
   "metadata": {},
   "source": [
    "# HH Vacancy Dashboard\n",
    "Выгрузка вакансий и анализ по городам"
   ]
  },
  {
   "cell_type": "code",
   "execution_count": null,
   "metadata": {},
   "outputs": [],
   "source": [
    "# Загрузка данных из API HH.ru\n",
    "from backend.fetch_job import fetch_and_save_all\n",
    "fetch_and_save_all()"
   ]
  }
 ],
 "metadata": {},
 "nbformat": 4,
 "nbformat_minor": 5
}